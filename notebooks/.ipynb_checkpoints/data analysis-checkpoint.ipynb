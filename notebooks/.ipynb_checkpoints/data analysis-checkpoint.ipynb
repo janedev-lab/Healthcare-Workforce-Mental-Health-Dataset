{
 "cells": [
  {
   "cell_type": "markdown",
   "id": "df8610c3-3ccc-4427-8e4d-9f4b7eb25852",
   "metadata": {},
   "source": [
    "##  Healthcare-Workforce-Mental-Health-Dataset-Exploratory and Descriptive analysis"
   ]
  },
  {
   "cell_type": "markdown",
   "id": "34535e9e-7005-40b9-9298-b3b7c7d076e3",
   "metadata": {},
   "source": [
    "this notebook if focused on data analysis for the  Healthcare-Workforce-Mental-Health-Dataset This project aims to perform a comprehensive exploratory and descriptive analysis of the Healthcare Workforce Mental Health Dataset from . The dataset focuses on the mental health conditions, treatment, employer support, and workplace impact for employees in the healthcare sector."
   ]
  },
  {
   "cell_type": "code",
   "execution_count": 127,
   "id": "f77709b0-f633-4b30-be7e-ca176db83afa",
   "metadata": {},
   "outputs": [],
   "source": [
    "import os\n",
    "import pandas as pd\n",
    "import numpy as np\n",
    "import plotly.express as px\n",
    "import textwrap "
   ]
  },
  {
   "cell_type": "markdown",
   "id": "b7968b1f-16f1-4f39-8879-0919271972c0",
   "metadata": {},
   "source": [
    "## Define and Create Paths\n",
    "\r\n",
    "This project follows a structured path starting with the definition of the problem—understanding mental health trends, treatment, and workplace support among healthcare professionals using theI Healthcare Workforce Mental Health Dataset. After acquiring and loading the dataset, we performed thorough data cleaning, handling missing values and standardizing categories for consistent analysis. We then conducted exploratory data analysis, Grouping and aggregation methods were used to compare mental health outcomes across regions and company sizes. Visualizations were created to clearly communicate trends, and descriptive statistics were calculated to summarize the dataset. The project concluded with key insights highlighting gaps in support and variations in treatment openness across demographics—laying the groundwork for data-driven mental health policies in healthcare workplaces."
   ]
  },
  {
   "cell_type": "code",
   "execution_count": 128,
   "id": "39e934fc-34bc-4023-a751-6cf0c3427487",
   "metadata": {},
   "outputs": [],
   "source": [
    "# Get working directory\n",
    "current_dir = os.getcwd()\n",
    "\n",
    "# Go one directory up to the root directory\n",
    "project_root_dir = os.path.dirname(current_dir)\n",
    "\n",
    "# Define paths to the data folder\n",
    "data_dir = os.path.join(project_root_dir, 'data')\n",
    "raw_dir = os.path.join(data_dir, 'raw')        \n",
    "processed_dir = os.path.join(data_dir, 'processed')\n",
    "\n",
    "# Define paths to results folder\n",
    "results_dir = os.path.join(project_root_dir, 'results')\n",
    "\n",
    "# Define paths to docs folder\n",
    "docs_dir = os.path.join(project_root_dir, 'docs')\n",
    "\n",
    "# Create directories if they do not exist\n",
    "os.makedirs(raw_dir, exist_ok = True)\n",
    "os.makedirs(processed_dir, exist_ok = True)\n",
    "os.makedirs(results_dir, exist_ok = True)\n",
    "os.makedirs(docs_dir, exist_ok = True)"
   ]
  },
  {
   "cell_type": "markdown",
   "id": "f63895b1-7229-4004-8f5d-31ec6dc826d9",
   "metadata": {},
   "source": [
    "## Load & Preview Data\n",
    "\n",
    "We load the Healthcare Workforce Mental Health Dataset.csv, which contains employee survey responses on job satisfaction and stress levels across various departments and employee types, to understand workforce wellbeing dynamics\""
   ]
  },
  {
   "cell_type": "code",
   "execution_count": 129,
   "id": "a946cc0a-a7be-48cf-9262-3a3785b30f25",
   "metadata": {},
   "outputs": [
    {
     "data": {
      "text/html": [
       "<div>\n",
       "<style scoped>\n",
       "    .dataframe tbody tr th:only-of-type {\n",
       "        vertical-align: middle;\n",
       "    }\n",
       "\n",
       "    .dataframe tbody tr th {\n",
       "        vertical-align: top;\n",
       "    }\n",
       "\n",
       "    .dataframe thead th {\n",
       "        text-align: right;\n",
       "    }\n",
       "</style>\n",
       "<table border=\"1\" class=\"dataframe\">\n",
       "  <thead>\n",
       "    <tr style=\"text-align: right;\">\n",
       "      <th></th>\n",
       "      <th>Employee ID</th>\n",
       "      <th>Employee Type</th>\n",
       "      <th>Department</th>\n",
       "      <th>Workplace Factor</th>\n",
       "      <th>Stress Level</th>\n",
       "      <th>Burnout Frequency</th>\n",
       "      <th>Job Satisfaction</th>\n",
       "      <th>Access to EAPs</th>\n",
       "      <th>Mental Health Absences</th>\n",
       "      <th>Turnover Intention</th>\n",
       "    </tr>\n",
       "  </thead>\n",
       "  <tbody>\n",
       "    <tr>\n",
       "      <th>0</th>\n",
       "      <td>HCP-00001</td>\n",
       "      <td>Pediatric Nurse</td>\n",
       "      <td>Pediatrics</td>\n",
       "      <td>Heavy Workload</td>\n",
       "      <td>8</td>\n",
       "      <td>Often</td>\n",
       "      <td>2</td>\n",
       "      <td>Yes</td>\n",
       "      <td>6</td>\n",
       "      <td>No</td>\n",
       "    </tr>\n",
       "    <tr>\n",
       "      <th>1</th>\n",
       "      <td>HCP-00002</td>\n",
       "      <td>Laboratory Technician</td>\n",
       "      <td>Laboratory</td>\n",
       "      <td>Safety Concerns</td>\n",
       "      <td>8</td>\n",
       "      <td>Often</td>\n",
       "      <td>1</td>\n",
       "      <td>Yes</td>\n",
       "      <td>12</td>\n",
       "      <td>No</td>\n",
       "    </tr>\n",
       "    <tr>\n",
       "      <th>2</th>\n",
       "      <td>HCP-00003</td>\n",
       "      <td>Nursing Assistant</td>\n",
       "      <td>Assisted Living</td>\n",
       "      <td>Poor Work Environment</td>\n",
       "      <td>6</td>\n",
       "      <td>Occasionally</td>\n",
       "      <td>2</td>\n",
       "      <td>Yes</td>\n",
       "      <td>9</td>\n",
       "      <td>Yes</td>\n",
       "    </tr>\n",
       "    <tr>\n",
       "      <th>3</th>\n",
       "      <td>HCP-00004</td>\n",
       "      <td>Medical Assistant</td>\n",
       "      <td>Outpatient Services</td>\n",
       "      <td>Poor Work Environment</td>\n",
       "      <td>7</td>\n",
       "      <td>Never</td>\n",
       "      <td>4</td>\n",
       "      <td>No</td>\n",
       "      <td>11</td>\n",
       "      <td>No</td>\n",
       "    </tr>\n",
       "    <tr>\n",
       "      <th>4</th>\n",
       "      <td>HCP-00005</td>\n",
       "      <td>Registered Nurse</td>\n",
       "      <td>General Medicine</td>\n",
       "      <td>Work-Life Imbalance</td>\n",
       "      <td>8</td>\n",
       "      <td>Occasionally</td>\n",
       "      <td>2</td>\n",
       "      <td>Yes</td>\n",
       "      <td>7</td>\n",
       "      <td>No</td>\n",
       "    </tr>\n",
       "    <tr>\n",
       "      <th>5</th>\n",
       "      <td>HCP-00006</td>\n",
       "      <td>Registered Nurse</td>\n",
       "      <td>General Medicine</td>\n",
       "      <td>Heavy Workload</td>\n",
       "      <td>9</td>\n",
       "      <td>Occasionally</td>\n",
       "      <td>2</td>\n",
       "      <td>Yes</td>\n",
       "      <td>11</td>\n",
       "      <td>Yes</td>\n",
       "    </tr>\n",
       "    <tr>\n",
       "      <th>6</th>\n",
       "      <td>HCP-00007</td>\n",
       "      <td>Registered Nurse</td>\n",
       "      <td>General Medicine</td>\n",
       "      <td>Poor Work Environment</td>\n",
       "      <td>6</td>\n",
       "      <td>Occasionally</td>\n",
       "      <td>4</td>\n",
       "      <td>Yes</td>\n",
       "      <td>3</td>\n",
       "      <td>Yes</td>\n",
       "    </tr>\n",
       "    <tr>\n",
       "      <th>7</th>\n",
       "      <td>HCP-00008</td>\n",
       "      <td>Radiology Technician</td>\n",
       "      <td>Radiology</td>\n",
       "      <td>Career Stagnation</td>\n",
       "      <td>5</td>\n",
       "      <td>Occasionally</td>\n",
       "      <td>2</td>\n",
       "      <td>Yes</td>\n",
       "      <td>7</td>\n",
       "      <td>No</td>\n",
       "    </tr>\n",
       "    <tr>\n",
       "      <th>8</th>\n",
       "      <td>HCP-00009</td>\n",
       "      <td>Medical Assistant</td>\n",
       "      <td>Outpatient Services</td>\n",
       "      <td>Poor Work Environment</td>\n",
       "      <td>8</td>\n",
       "      <td>Often</td>\n",
       "      <td>2</td>\n",
       "      <td>Yes</td>\n",
       "      <td>9</td>\n",
       "      <td>Yes</td>\n",
       "    </tr>\n",
       "    <tr>\n",
       "      <th>9</th>\n",
       "      <td>HCP-00010</td>\n",
       "      <td>Nursing Assistant</td>\n",
       "      <td>Assisted Living</td>\n",
       "      <td>Heavy Workload</td>\n",
       "      <td>9</td>\n",
       "      <td>Occasionally</td>\n",
       "      <td>1</td>\n",
       "      <td>Yes</td>\n",
       "      <td>8</td>\n",
       "      <td>No</td>\n",
       "    </tr>\n",
       "  </tbody>\n",
       "</table>\n",
       "</div>"
      ],
      "text/plain": [
       "  Employee ID          Employee Type           Department  \\\n",
       "0   HCP-00001        Pediatric Nurse           Pediatrics   \n",
       "1   HCP-00002  Laboratory Technician           Laboratory   \n",
       "2   HCP-00003      Nursing Assistant      Assisted Living   \n",
       "3   HCP-00004      Medical Assistant  Outpatient Services   \n",
       "4   HCP-00005       Registered Nurse     General Medicine   \n",
       "5   HCP-00006       Registered Nurse     General Medicine   \n",
       "6   HCP-00007       Registered Nurse     General Medicine   \n",
       "7   HCP-00008   Radiology Technician            Radiology   \n",
       "8   HCP-00009      Medical Assistant  Outpatient Services   \n",
       "9   HCP-00010      Nursing Assistant      Assisted Living   \n",
       "\n",
       "        Workplace Factor  Stress Level Burnout Frequency  Job Satisfaction  \\\n",
       "0         Heavy Workload             8             Often                 2   \n",
       "1        Safety Concerns             8             Often                 1   \n",
       "2  Poor Work Environment             6      Occasionally                 2   \n",
       "3  Poor Work Environment             7             Never                 4   \n",
       "4    Work-Life Imbalance             8      Occasionally                 2   \n",
       "5         Heavy Workload             9      Occasionally                 2   \n",
       "6  Poor Work Environment             6      Occasionally                 4   \n",
       "7      Career Stagnation             5      Occasionally                 2   \n",
       "8  Poor Work Environment             8             Often                 2   \n",
       "9         Heavy Workload             9      Occasionally                 1   \n",
       "\n",
       "  Access to EAPs  Mental Health Absences Turnover Intention  \n",
       "0            Yes                       6                 No  \n",
       "1            Yes                      12                 No  \n",
       "2            Yes                       9                Yes  \n",
       "3             No                      11                 No  \n",
       "4            Yes                       7                 No  \n",
       "5            Yes                      11                Yes  \n",
       "6            Yes                       3                Yes  \n",
       "7            Yes                       7                 No  \n",
       "8            Yes                       9                Yes  \n",
       "9            Yes                       8                 No  "
      ]
     },
     "execution_count": 129,
     "metadata": {},
     "output_type": "execute_result"
    }
   ],
   "source": [
    "mental_health_df = os.path.join(processed_dir, \"Healthcare Workforce Mental Health Dataset.csv\")\n",
    "mental_health_df = pd.read_csv(mental_health_df)\n",
    "mental_health_df.head(10)"
   ]
  },
  {
   "cell_type": "markdown",
   "id": "aa8bb2b6-4872-4d5f-86ce-477fb5bddf7e",
   "metadata": {},
   "source": [
    "## This visualization analyzes the average stress level across departments\n",
    "by grouping the data and calculating the mean stress level for each. A horizontal bar chart, styled with a professional dark theme, displays departments sorted from highest to lowest stress. This provides a clear view of which departments experience higher stress, helping guide targeted mental health interventions."
   ]
  },
  {
   "cell_type": "code",
   "execution_count": 152,
   "id": "d9bb8f86-6802-487d-9e43-01bfa564c616",
   "metadata": {},
   "outputs": [
    {
     "data": {
      "application/vnd.plotly.v1+json": {
       "config": {
        "plotlyServerURL": "https://plot.ly"
       },
       "data": [
        {
         "cliponaxis": false,
         "hovertemplate": "Stress Level=%{text}<br>Department=%{y}<extra></extra>",
         "legendgroup": "",
         "marker": {
          "color": "#00ffff",
          "pattern": {
           "shape": ""
          }
         },
         "name": "",
         "orientation": "h",
         "showlegend": false,
         "text": {
          "_inputArray": {
           "0": 8.012295081967213,
           "1": 7.82258064516129,
           "2": 7.643024162120031,
           "3": 7.553784860557769,
           "4": 7.489795918367347,
           "5": 7.393762183235867,
           "6": 7.385496183206107,
           "7": 7.045212765957447,
           "8": 7,
           "9": 5.516765285996056,
           "bdata": "0uZ9iksGIEBKKaWUUkofQJNfC+10kh5AUHbkYBM3HkB9aKwPjfUdQDOZzWQ2kx1Ah2nugr+KHUCDmFxBTC4cQAAAAAAAABxAnT5M6yoRFkA=",
           "dtype": "f8",
           "shape": "10"
          },
          "bdata": "0uZ9iksGIEBKKaWUUkofQJNfC+10kh5AUHbkYBM3HkB9aKwPjfUdQDOZzWQ2kx1Ah2nugr+KHUCDmFxBTC4cQAAAAAAAABxAnT5M6yoRFkA=",
          "dtype": "f8"
         },
         "textposition": "outside",
         "texttemplate": "%{text:.2f}",
         "type": "bar",
         "x": {
          "_inputArray": {
           "0": 8.012295081967213,
           "1": 7.82258064516129,
           "2": 7.643024162120031,
           "3": 7.553784860557769,
           "4": 7.489795918367347,
           "5": 7.393762183235867,
           "6": 7.385496183206107,
           "7": 7.045212765957447,
           "8": 7,
           "9": 5.516765285996056,
           "bdata": "0uZ9iksGIEBKKaWUUkofQJNfC+10kh5AUHbkYBM3HkB9aKwPjfUdQDOZzWQ2kx1Ah2nugr+KHUCDmFxBTC4cQAAAAAAAABxAnT5M6yoRFkA=",
           "dtype": "f8",
           "shape": "10"
          },
          "bdata": "0uZ9iksGIEBKKaWUUkofQJNfC+10kh5AUHbkYBM3HkB9aKwPjfUdQDOZzWQ2kx1Ah2nugr+KHUCDmFxBTC4cQAAAAAAAABxAnT5M6yoRFkA=",
          "dtype": "f8"
         },
         "xaxis": "x",
         "y": [
          "ICU",
          "General Practice",
          "General Medicine",
          "Assisted Living",
          "Specialty Care",
          "Outpatient Services",
          "Pediatrics",
          "Radiology",
          "Laboratory",
          "Administration"
         ],
         "yaxis": "y"
        }
       ],
       "layout": {
        "barmode": "relative",
        "font": {
         "color": "white"
        },
        "height": 500,
        "legend": {
         "title": {
          "text": "Income Level"
         },
         "tracegroupgap": 0
        },
        "margin": {
         "b": 120,
         "l": 220,
         "r": 60,
         "t": 60
        },
        "paper_bgcolor": "rgb(0, 0, 0)",
        "plot_bgcolor": "rgb(0, 0, 0)",
        "template": {
         "data": {
          "pie": [
           {
            "automargin": true,
            "type": "pie"
           }
          ],
          "scatter": [
           {
            "line": {
             "width": 3
            },
            "marker": {
             "size": 9
            },
            "type": "scatter"
           }
          ],
          "scatter3d": [
           {
            "line": {
             "width": 3
            },
            "marker": {
             "size": 9
            },
            "type": "scatter3d"
           }
          ],
          "scattergeo": [
           {
            "line": {
             "width": 3
            },
            "marker": {
             "size": 9
            },
            "type": "scattergeo"
           }
          ],
          "scattergl": [
           {
            "line": {
             "width": 3
            },
            "marker": {
             "size": 9
            },
            "type": "scattergl"
           }
          ],
          "scatterpolar": [
           {
            "line": {
             "width": 3
            },
            "marker": {
             "size": 9
            },
            "type": "scatterpolar"
           }
          ],
          "scatterpolargl": [
           {
            "line": {
             "width": 3
            },
            "marker": {
             "size": 9
            },
            "type": "scatterpolargl"
           }
          ],
          "scatterternary": [
           {
            "line": {
             "width": 3
            },
            "marker": {
             "size": 9
            },
            "type": "scatterternary"
           }
          ],
          "table": [
           {
            "cells": {
             "height": 30
            },
            "header": {
             "height": 36
            },
            "type": "table"
           }
          ]
         },
         "layout": {
          "font": {
           "size": 18
          },
          "xaxis": {
           "title": {
            "standoff": 15
           }
          },
          "yaxis": {
           "title": {
            "standoff": 15
           }
          }
         }
        },
        "title": {
         "text": "Average Stress Level by Department"
        },
        "width": 1000,
        "xaxis": {
         "anchor": "y",
         "automargin": true,
         "domain": [
          0,
          1
         ],
         "range": [
          0,
          9
         ],
         "title": {
          "text": "Stress Level"
         },
         "type": "linear"
        },
        "yaxis": {
         "anchor": "x",
         "autorange": true,
         "domain": [
          0,
          1
         ],
         "range": [
          -0.5,
          9.5
         ],
         "title": {
          "text": "Department"
         },
         "type": "category"
        }
       }
      },
      "image/png": "[encoded data removed]"
     },
     "metadata": {},
     "output_type": "display_data"
    }
   ],
   "source": [
    "# 2) Group by Department and calculate the average Stress Level\n",
    "avg_stress_by_dept = (\n",
    "    mental_health_df\n",
    "    .groupby('Department', as_index=False)['Stress Level']\n",
    "    .mean()\n",
    ")\n",
    "\n",
    "# 3) Sort the departments by Stress Level, descending\n",
    "avg_stress_by_dept = avg_stress_by_dept.sort_values(by='Stress Level', ascending=False)\n",
    "\n",
    "# 4) Create the horizontal bar chart with data labels\n",
    "fig = px.bar(\n",
    "    avg_stress_by_dept,\n",
    "    x='Stress Level',\n",
    "    y='Department',\n",
    "    orientation='h',\n",
    "    title='Average Stress Level by Department',\n",
    "    labels={'Stress Level': 'Stress Level', 'Department': 'Department'},\n",
    "    color_discrete_sequence=['#00ffff'],\n",
    "    text='Stress Level'\n",
    ")\n",
    "\n",
    "# 5) Format text and axes so labels don’t overlap\n",
    "fig.update_traces(\n",
    "    texttemplate='%{text:.2f}',\n",
    "    textposition='outside',\n",
    "    cliponaxis=False\n",
    ")\n",
    "fig.update_xaxes(automargin=True)\n",
    "\n",
    "# 6) Unified layout & styling\n",
    "fig.update_layout(\n",
    "    template='presentation',\n",
    "    xaxis_title='Stress Level',\n",
    "    yaxis_title='Department',\n",
    "    xaxis_range=[0, 9],\n",
    "    width=1000,\n",
    "    height=500,\n",
    "    margin=dict(l=220, r=60, t=60, b=120),\n",
    "    paper_bgcolor='rgb(0, 0, 0)',\n",
    "    plot_bgcolor='rgb(0, 0, 0)',\n",
    "    font=dict(color='white'),\n",
    "    legend_title=dict(text='Income Level')\n",
    ")\n",
    "\n",
    "# 7) Render & export\n",
    "fig.show()\n",
    "os.makedirs(results_dir, exist_ok=True)\n",
    "fig.write_image(os.path.join(results_dir, 'Average_stress_level_by_Department.jpg'))\n",
    "fig.write_image(os.path.join(results_dir, 'Average_stress_level_by_Department.png'))\n",
    "fig.write_html(os.path.join(results_dir, 'Average_stress_level_by_Department.html'))"
   ]
  },
  {
   "cell_type": "markdown",
   "id": "0e626e4c-46a2-4e88-b225-fb84e2065c3e",
   "metadata": {},
   "source": [
    "## Visualization: Mental Health Absences by Access to EAPs\n",
    "\n",
    "This step explores the relationship between access to Employee Assistance Programs (EAPs) and the average number of mental health absences reported by employees. Using the processed dataset, we first grouped the data by EAP access status and calculated the mean number of mental health absences for each group. A bar chart was then created using Plotly Express to visualize this comparison. The chart features clearly labeled bars with numeric values displayed on top for better readability. A dark-themed presentation layout was applied for visual consistency, and axes were formatted for clarity. The final chart reveals how the availability of EAPs may influence the frequency of mental health-related absences, offering valuable insights for organizational mental health support strategies.\n",
    "\n"
   ]
  },
  {
   "cell_type": "code",
   "execution_count": 164,
   "id": "638a4325-60c4-4acc-825c-a588aaf80565",
   "metadata": {},
   "outputs": [
    {
     "data": {
      "application/vnd.plotly.v1+json": {
       "config": {
        "plotlyServerURL": "https://plot.ly"
       },
       "data": [
        {
         "cliponaxis": false,
         "hovertemplate": "Access to EAPs=%{x}<br>Mental Health Absences=%{text}<extra></extra>",
         "legendgroup": "",
         "marker": {
          "color": "#00ffff",
          "pattern": {
           "shape": ""
          }
         },
         "name": "",
         "orientation": "v",
         "showlegend": false,
         "text": {
          "_inputArray": {
           "0": 8.886913229018493,
           "1": 6.813021702838063,
           "bdata": "YgyifRnGIUDHguLCiEAbQA==",
           "dtype": "f8",
           "shape": "2"
          },
          "bdata": "YgyifRnGIUDHguLCiEAbQA==",
          "dtype": "f8"
         },
         "textposition": "outside",
         "texttemplate": "%{text:.2f}",
         "type": "bar",
         "x": [
          "No",
          "Yes"
         ],
         "xaxis": "x",
         "y": {
          "_inputArray": {
           "0": 8.886913229018493,
           "1": 6.813021702838063,
           "bdata": "YgyifRnGIUDHguLCiEAbQA==",
           "dtype": "f8",
           "shape": "2"
          },
          "bdata": "YgyifRnGIUDHguLCiEAbQA==",
          "dtype": "f8"
         },
         "yaxis": "y"
        }
       ],
       "layout": {
        "barmode": "relative",
        "height": 400,
        "legend": {
         "title": {
          "text": "Income Level"
         },
         "tracegroupgap": 0
        },
        "margin": {
         "b": 80,
         "l": 200,
         "r": 60,
         "t": 50
        },
        "paper_bgcolor": "rgb(0, 0, 0)",
        "plot_bgcolor": "rgb(0, 0, 0)",
        "template": {
         "data": {
          "pie": [
           {
            "automargin": true,
            "type": "pie"
           }
          ],
          "scatter": [
           {
            "line": {
             "width": 3
            },
            "marker": {
             "size": 9
            },
            "type": "scatter"
           }
          ],
          "scatter3d": [
           {
            "line": {
             "width": 3
            },
            "marker": {
             "size": 9
            },
            "type": "scatter3d"
           }
          ],
          "scattergeo": [
           {
            "line": {
             "width": 3
            },
            "marker": {
             "size": 9
            },
            "type": "scattergeo"
           }
          ],
          "scattergl": [
           {
            "line": {
             "width": 3
            },
            "marker": {
             "size": 9
            },
            "type": "scattergl"
           }
          ],
          "scatterpolar": [
           {
            "line": {
             "width": 3
            },
            "marker": {
             "size": 9
            },
            "type": "scatterpolar"
           }
          ],
          "scatterpolargl": [
           {
            "line": {
             "width": 3
            },
            "marker": {
             "size": 9
            },
            "type": "scatterpolargl"
           }
          ],
          "scatterternary": [
           {
            "line": {
             "width": 3
            },
            "marker": {
             "size": 9
            },
            "type": "scatterternary"
           }
          ],
          "table": [
           {
            "cells": {
             "height": 30
            },
            "header": {
             "height": 36
            },
            "type": "table"
           }
          ]
         },
         "layout": {
          "font": {
           "size": 18
          },
          "xaxis": {
           "title": {
            "standoff": 15
           }
          },
          "yaxis": {
           "title": {
            "standoff": 15
           }
          }
         }
        },
        "title": {
         "text": "Mental Health Absences by Access to EAPs"
        },
        "width": 600,
        "xaxis": {
         "anchor": "y",
         "autorange": true,
         "domain": [
          0,
          1
         ],
         "range": [
          -0.5,
          1.5
         ],
         "title": {
          "text": "Access to EAPs"
         },
         "type": "category"
        },
        "yaxis": {
         "anchor": "x",
         "domain": [
          0,
          1
         ],
         "range": [
          0,
          9
         ],
         "title": {
          "text": "Mental Health Absences"
         },
         "type": "linear"
        }
       }
      },
      "image/png": "[encoded data removed]"
     },
     "metadata": {},
     "output_type": "display_data"
    }
   ],
   "source": [
    "\n",
    "\n",
    "# Load the dataset\n",
    "file_path = os.path.join(processed_dir, \"Healthcare Workforce Mental Health Dataset.csv\")\n",
    "mental_health_df = pd.read_csv(file_path)\n",
    "\n",
    "# Group by access to EAPs and calculate average mental health absence\n",
    "avg_absence_by_eap = mental_health_df.groupby('Access to EAPs')['Mental Health Absences'].mean().reset_index()\n",
    "\n",
    "# Plot bar chart\n",
    "fig = px.bar(\n",
    "    avg_absence_by_eap,\n",
    "    x='Access to EAPs',\n",
    "    y='Mental Health Absences',\n",
    "    title='Mental Health Absences by Access to EAPs',\n",
    "    labels={'Access to EAPs': 'Access to EAPs', 'Mental Health Absences': 'Mental Health Absences'},\n",
    "    color_discrete_sequence=['#00ffff'],\n",
    "    text='Mental Health Absences'\n",
    ")\n",
    "\n",
    "# Format labels and layout\n",
    "fig.update_traces(\n",
    "    texttemplate='%{text:.2f}',\n",
    "    textposition='outside', \n",
    "    cliponaxis=False\n",
    ")\n",
    "fig.update_layout(\n",
    "    template='presentation',                       \n",
    "    legend_title=dict(text='Income Level'),       \n",
    "    xaxis_title='Access to EAPs',                  \n",
    "    yaxis_title='Mental Health Absences',          \n",
    "    yaxis_range=[0, 9],                           \n",
    "    width=600,                                    \n",
    "    height=400,                                     \n",
    "    margin=dict(\n",
    "        l=200,                                      \n",
    "        r=60,                                     \n",
    "        t=50,                                     \n",
    "        b=80                                  \n",
    "    ),                                            \n",
    "    paper_bgcolor='rgb(0, 0, 0)',                  \n",
    "    plot_bgcolor='rgb(0, 0, 0)'                 \n",
    ")\n",
    "\n",
    "fig.show()\n",
    "fig.write_image(os.path.join(results_dir, 'Mental Health Absences_by_Access to EAPs.jpg'))\n",
    "fig.write_image(os.path.join(results_dir, 'Mental Health Absences_by_Access to EAPs.png'))\n",
    "fig.write_html(os.path.join(results_dir, 'Mental Health Absences_by_Access to EAPs.html'))"
   ]
  },
  {
   "cell_type": "markdown",
   "id": "dae359b3-f125-4722-9c53-000368cf9ef7",
   "metadata": {},
   "source": [
    "## visualization: Job Satisfaction by Employee Type\n",
    "\n",
    "This analysis examines how job satisfaction varies across different employee types within the healthcare workforce. After reading the dataset from the processed directory, the data was grouped by the Employee Type column, and the mean job satisfaction score was calculated for each group. A bar chart was then created using Plotly Express to visualize these averages. The chart clearly displays employee types along the x-axis and their corresponding average satisfaction levels on the y-axis. Numeric labels are shown above each bar for easy interpretation, and a dark-themed layout enhances visual appeal. The chart was formatted with a horizontal margin and tilted x-axis labels to avoid overlap. This visualization helps highlight which employee categories report higher or lower levels of satisfaction, offering useful insights for workforce well-being and HR planning. The results were prepared for export to multiple formats, supporting reporting and presentation use.\n",
    "\n"
   ]
  },
  {
   "cell_type": "code",
   "execution_count": 163,
   "id": "11dd0649-63b9-4120-b118-870463430f03",
   "metadata": {},
   "outputs": [
    {
     "data": {
      "application/vnd.plotly.v1+json": {
       "config": {
        "plotlyServerURL": "https://plot.ly"
       },
       "data": [
        {
         "hovertemplate": "Employee Type=%{x}<br>Average Job Satisfaction=%{text}<extra></extra>",
         "legendgroup": "",
         "marker": {
          "color": "#00ffff",
          "pattern": {
           "shape": ""
          }
         },
         "name": "",
         "orientation": "v",
         "showlegend": false,
         "text": {
          "_inputArray": {
           "0": 2.067622950819672,
           "1": 2.670611439842209,
           "2": 2.347457627118644,
           "3": 2.2222222222222223,
           "4": 2.0796812749003983,
           "5": 2.148854961832061,
           "6": 2.0833333333333335,
           "7": 2.1486880466472305,
           "8": 2.202127659574468,
           "9": 2.127825409197194,
           "bdata": "CNbR5n2KAEDqkNOHaV0FQEHDSd2XxwJAchzHcRzHAUAIaK7vL6MAQAhUx97aMAFAq6qqqqqqAEBxP81bgzABQDbqOxv1nQFAUswAVMkFAUA=",
           "dtype": "f8",
           "shape": "10"
          },
          "bdata": "CNbR5n2KAEDqkNOHaV0FQEHDSd2XxwJAchzHcRzHAUAIaK7vL6MAQAhUx97aMAFAq6qqqqqqAEBxP81bgzABQDbqOxv1nQFAUswAVMkFAUA=",
          "dtype": "f8"
         },
         "textposition": "outside",
         "texttemplate": "%{text:.2f}",
         "type": "bar",
         "x": [
          "Critical Care Nurse",
          "Healthcare Administrator",
          "Laboratory Technician",
          "Medical Assistant",
          "Nursing Assistant",
          "Pediatric Nurse",
          "Physician (General)",
          "Physician (Specialist)",
          "Radiology Technician",
          "Registered Nurse"
         ],
         "xaxis": "x",
         "y": {
          "_inputArray": {
           "0": 2.067622950819672,
           "1": 2.670611439842209,
           "2": 2.347457627118644,
           "3": 2.2222222222222223,
           "4": 2.0796812749003983,
           "5": 2.148854961832061,
           "6": 2.0833333333333335,
           "7": 2.1486880466472305,
           "8": 2.202127659574468,
           "9": 2.127825409197194,
           "bdata": "CNbR5n2KAEDqkNOHaV0FQEHDSd2XxwJAchzHcRzHAUAIaK7vL6MAQAhUx97aMAFAq6qqqqqqAEBxP81bgzABQDbqOxv1nQFAUswAVMkFAUA=",
           "dtype": "f8",
           "shape": "10"
          },
          "bdata": "CNbR5n2KAEDqkNOHaV0FQEHDSd2XxwJAchzHcRzHAUAIaK7vL6MAQAhUx97aMAFAq6qqqqqqAEBxP81bgzABQDbqOxv1nQFAUswAVMkFAUA=",
          "dtype": "f8"
         },
         "yaxis": "y"
        }
       ],
       "layout": {
        "barmode": "relative",
        "height": 600,
        "legend": {
         "title": {
          "text": "Income Level"
         },
         "tracegroupgap": 0
        },
        "margin": {
         "b": 200,
         "l": 180,
         "r": 60,
         "t": 100
        },
        "paper_bgcolor": "rgb(0, 0, 0)",
        "plot_bgcolor": "rgb(0, 0, 0)",
        "template": {
         "data": {
          "pie": [
           {
            "automargin": true,
            "type": "pie"
           }
          ],
          "scatter": [
           {
            "line": {
             "width": 3
            },
            "marker": {
             "size": 9
            },
            "type": "scatter"
           }
          ],
          "scatter3d": [
           {
            "line": {
             "width": 3
            },
            "marker": {
             "size": 9
            },
            "type": "scatter3d"
           }
          ],
          "scattergeo": [
           {
            "line": {
             "width": 3
            },
            "marker": {
             "size": 9
            },
            "type": "scattergeo"
           }
          ],
          "scattergl": [
           {
            "line": {
             "width": 3
            },
            "marker": {
             "size": 9
            },
            "type": "scattergl"
           }
          ],
          "scatterpolar": [
           {
            "line": {
             "width": 3
            },
            "marker": {
             "size": 9
            },
            "type": "scatterpolar"
           }
          ],
          "scatterpolargl": [
           {
            "line": {
             "width": 3
            },
            "marker": {
             "size": 9
            },
            "type": "scatterpolargl"
           }
          ],
          "scatterternary": [
           {
            "line": {
             "width": 3
            },
            "marker": {
             "size": 9
            },
            "type": "scatterternary"
           }
          ],
          "table": [
           {
            "cells": {
             "height": 30
            },
            "header": {
             "height": 36
            },
            "type": "table"
           }
          ]
         },
         "layout": {
          "font": {
           "size": 18
          },
          "xaxis": {
           "title": {
            "standoff": 15
           }
          },
          "yaxis": {
           "title": {
            "standoff": 15
           }
          }
         }
        },
        "title": {
         "text": "Job Satisfaction by Employee Type"
        },
        "width": 2400,
        "xaxis": {
         "anchor": "y",
         "autorange": true,
         "domain": [
          0,
          1
         ],
         "range": [
          -0.5,
          9.5
         ],
         "tickangle": 0,
         "title": {
          "text": "Employee Type"
         },
         "type": "category"
        },
        "yaxis": {
         "anchor": "x",
         "autorange": true,
         "domain": [
          0,
          1
         ],
         "range": [
          0,
          2.8111699366760092
         ],
         "title": {
          "text": "Average Job Satisfaction"
         },
         "type": "linear"
        }
       }
      },
      "image/png": "[encoded data removed]"
     },
     "metadata": {},
     "output_type": "display_data"
    }
   ],
   "source": [
    "\n",
    "# Define the path to the dataset\n",
    "file_path = os.path.join(processed_dir, \"Healthcare Workforce Mental Health Dataset.csv\")\n",
    "\n",
    "# Read the dataset\n",
    "mental_health_df = pd.read_csv(file_path)\n",
    "\n",
    "# Group by 'Employee Type' and calculate average 'Job Satisfaction'\n",
    "avg_satisfaction_by_type = mental_health_df.groupby('Employee Type')['Job Satisfaction'].mean().reset_index()\n",
    "\n",
    "# Create the bar chart\n",
    "fig = px.bar(\n",
    "    avg_satisfaction_by_type,\n",
    "    x='Employee Type',\n",
    "    y='Job Satisfaction',\n",
    "    title='Job Satisfaction by Employee Type',\n",
    "    labels={\n",
    "        'Job Satisfaction': 'Average Job Satisfaction',\n",
    "        'Employee Type': 'Employee Type'\n",
    "    },\n",
    "    color_discrete_sequence=['#00ffff'],\n",
    "    text='Job Satisfaction'\n",
    ")\n",
    "\n",
    "# Improve layout and appearance\n",
    "fig.update_traces(\n",
    "    texttemplate='%{text:.2f}',\n",
    "    textposition='outside'\n",
    ")\n",
    "\n",
    "fig.update_layout(\n",
    "    template='presentation',\n",
    "    legend_title=dict(text='Income Level'),\n",
    "    xaxis_title='Employee Type',\n",
    "    yaxis_title='Average Job Satisfaction',\n",
    "    xaxis_tickangle=0,\n",
    "    \n",
    "    width=2400,\n",
    "    height=600,\n",
    "    margin=dict(l=180, r=60, t=100, b=200),\n",
    "    paper_bgcolor='rgb(0, 0, 0)',\n",
    "    plot_bgcolor='rgb(0, 0, 0)'\n",
    ")\n",
    "\n",
    "fig.show()\n",
    "\n",
    "# Write outputs\n",
    "os.makedirs(results_dir, exist_ok=True)\n",
    "fig.write_image(os.path.join(results_dir, 'Jobsatisfaction_by_employee Type.jpg'))\n",
    "fig.write_image(os.path.join(results_dir, 'Jobsatisfaction_by_employee Type.png'))\n",
    "fig.write_html(os.path.join(results_dir, 'Jobsatisfaction_by_employee Type.html'))"
   ]
  },
  {
   "cell_type": "code",
   "execution_count": null,
   "id": "66354787-92fd-498e-9bf1-f537ba7dd8e0",
   "metadata": {},
   "outputs": [],
   "source": []
  }
 ],
 "metadata": {
  "kernelspec": {
   "display_name": "Python 3 (ipykernel)",
   "language": "python",
   "name": "python3"
  },
  "language_info": {
   "codemirror_mode": {
    "name": "ipython",
    "version": 3
   },
   "file_extension": ".py",
   "mimetype": "text/x-python",
   "name": "python",
   "nbconvert_exporter": "python",
   "pygments_lexer": "ipython3",
   "version": "3.11.7"
  }
 },
 "nbformat": 4,
 "nbformat_minor": 5
}
